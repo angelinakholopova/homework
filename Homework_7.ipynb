{
 "cells": [
  {
   "cell_type": "markdown",
   "id": "a6f5ef65",
   "metadata": {},
   "source": [
    "**Винни-Пух попросил Вас посмотреть, есть ли в его стихах ритм. Поскольку разобраться в его кричалках не настолько просто, насколько легко он их придумывает, Вам стоит написать программу. Винни-Пух считает, что ритм есть, если число слогов (т.е. число гласных букв) в каждой фразе стихотворения одинаковое. Фраза может состоять из одного слова, если во фразе несколько слов, то они разделяются дефисами. Фразы отделяются друг от друга пробелами. Стихотворение  Винни-Пух вбивает в программу с клавиатуры. В ответе напишите “Парам пам-пам”, если с ритмом все в порядке и “Пам парам”, если с ритмом все не в порядке.**"
   ]
  },
  {
   "cell_type": "code",
   "execution_count": 3,
   "id": "0d529068",
   "metadata": {},
   "outputs": [
    {
     "name": "stdout",
     "output_type": "stream",
     "text": [
      "Парам пам-пам\n"
     ]
    }
   ],
   "source": [
    "def count_vowels(word):\n",
    "    vowels = 'аеёиоуыэюя'\n",
    "    vowels_in_word = [i for i in word if i in vowels]\n",
    "    return len(vowels_in_word)\n",
    "\n",
    "def rhythm(string):\n",
    "    rhythms = set(map(count_vowels, string.split()))\n",
    "    if len(rhythms) == 1:\n",
    "        return 'Парам пам-пам'\n",
    "    else:\n",
    "        return 'Пам парам'\n",
    "\n",
    "print(rhythm('пара-ра-рам рам-пам-папам па-ра-па-да'))\n"
   ]
  },
  {
   "cell_type": "markdown",
   "id": "832e3127",
   "metadata": {},
   "source": [
    "**Напишите функцию print_operation_table(operation, num_rows=6, num_columns=6), которая принимает в качестве аргумента функцию, вычисляющую элемент по номеру строки и столбца. Аргументы num_rows и num_columns указывают число строк и столбцов таблицы, которые должны быть распечатаны. Нумерация строк и столбцов идет с единицы (подумайте, почему не с нуля). Примечание: бинарной операцией называется любая операция, у которой ровно два аргумента, как, например, у операции умножения.**"
   ]
  },
  {
   "cell_type": "code",
   "execution_count": 22,
   "id": "bcaf2f5f",
   "metadata": {},
   "outputs": [
    {
     "name": "stdout",
     "output_type": "stream",
     "text": [
      "Requirement already satisfied: pandas in ./opt/anaconda3/lib/python3.9/site-packages (1.4.4)\n",
      "Requirement already satisfied: python-dateutil>=2.8.1 in ./opt/anaconda3/lib/python3.9/site-packages (from pandas) (2.8.2)\n",
      "Requirement already satisfied: pytz>=2020.1 in ./opt/anaconda3/lib/python3.9/site-packages (from pandas) (2022.1)\n",
      "Requirement already satisfied: numpy>=1.18.5 in ./opt/anaconda3/lib/python3.9/site-packages (from pandas) (1.21.5)\n",
      "Requirement already satisfied: six>=1.5 in ./opt/anaconda3/lib/python3.9/site-packages (from python-dateutil>=2.8.1->pandas) (1.16.0)\n",
      "Note: you may need to restart the kernel to use updated packages.\n"
     ]
    }
   ],
   "source": [
    "pip install pandas"
   ]
  },
  {
   "cell_type": "code",
   "execution_count": 8,
   "id": "ba1a744e",
   "metadata": {},
   "outputs": [
    {
     "name": "stdout",
     "output_type": "stream",
     "text": [
      "   0   1   2   3   4   5\n",
      "0  1   2   3   4   5   6\n",
      "1  2   4   6   8  10  12\n",
      "2  3   6   9  12  15  18\n",
      "3  4   8  12  16  20  24\n",
      "4  5  10  15  20  25  30\n",
      "5  6  12  18  24  30  36\n"
     ]
    }
   ],
   "source": [
    "import pandas as pd\n",
    "\n",
    "def print_operation_table(operation, num_rows, num_columns):\n",
    "    matrix_rows = []\n",
    "    matrix_columns = []\n",
    "    for i in range(1, num_rows+1):\n",
    "        matrix_rows = [operation(i, j) for j in range(1, num_columns+1)]\n",
    "        matrix_columns.append(matrix_rows)\n",
    "        matrix_rows = []\n",
    "    return matrix_columns\n",
    "        \n",
    "print(pd.DataFrame(print_operation_table(lambda x,y: x*y, 6, 6)))\n",
    "            "
   ]
  }
 ],
 "metadata": {
  "kernelspec": {
   "display_name": "Python 3 (ipykernel)",
   "language": "python",
   "name": "python3"
  },
  "language_info": {
   "codemirror_mode": {
    "name": "ipython",
    "version": 3
   },
   "file_extension": ".py",
   "mimetype": "text/x-python",
   "name": "python",
   "nbconvert_exporter": "python",
   "pygments_lexer": "ipython3",
   "version": "3.9.13"
  }
 },
 "nbformat": 4,
 "nbformat_minor": 5
}
