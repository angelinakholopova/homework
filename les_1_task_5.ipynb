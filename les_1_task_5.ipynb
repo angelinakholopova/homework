{
  "nbformat": 4,
  "nbformat_minor": 0,
  "metadata": {
    "colab": {
      "name": "les_1_task_5.ipynb",
      "provenance": [],
      "authorship_tag": "ABX9TyN3i/bmuMi3/TDyzx5Kr1gP",
      "include_colab_link": true
    },
    "kernelspec": {
      "name": "python3",
      "display_name": "Python 3"
    },
    "language_info": {
      "name": "python"
    }
  },
  "cells": [
    {
      "cell_type": "markdown",
      "metadata": {
        "id": "view-in-github",
        "colab_type": "text"
      },
      "source": [
        "<a href=\"https://colab.research.google.com/github/angelinakholopova/homework/blob/algorithms-and-data-structures/les_1_task_5.ipynb\" target=\"_parent\"><img src=\"https://colab.research.google.com/assets/colab-badge.svg\" alt=\"Open In Colab\"/></a>"
      ]
    },
    {
      "cell_type": "markdown",
      "source": [
        "Пользователь вводит номер буквы в алфавите. Определить, какая это буква."
      ],
      "metadata": {
        "id": "nSCxuiaKgp1k"
      }
    },
    {
      "cell_type": "code",
      "source": [
        "num = int(input('Введите номер буквы латинского алфавита: '))\n",
        "num += ord('a') - 1\n",
        "letter = chr(num)\n",
        "print(f'Буква: {letter}')"
      ],
      "metadata": {
        "colab": {
          "base_uri": "https://localhost:8080/"
        },
        "id": "1y7AKRXDg0w3",
        "outputId": "cbc490e0-b25e-4691-9b90-41da2225cce3"
      },
      "execution_count": 2,
      "outputs": [
        {
          "output_type": "stream",
          "name": "stdout",
          "text": [
            "Введите номер буквы латинского алфавита: 3\n",
            "Буква: c\n"
          ]
        }
      ]
    }
  ]
}