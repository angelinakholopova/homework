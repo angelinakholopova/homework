{
  "nbformat": 4,
  "nbformat_minor": 0,
  "metadata": {
    "colab": {
      "name": "les_1_task_7.ipynb",
      "provenance": [],
      "authorship_tag": "ABX9TyOPPTeUdyqU11PTmo5o+i7M",
      "include_colab_link": true
    },
    "kernelspec": {
      "name": "python3",
      "display_name": "Python 3"
    },
    "language_info": {
      "name": "python"
    }
  },
  "cells": [
    {
      "cell_type": "markdown",
      "metadata": {
        "id": "view-in-github",
        "colab_type": "text"
      },
      "source": [
        "<a href=\"https://colab.research.google.com/github/angelinakholopova/homework/blob/algorithms-and-data-structures/les_1_task_7.ipynb\" target=\"_parent\"><img src=\"https://colab.research.google.com/assets/colab-badge.svg\" alt=\"Open In Colab\"/></a>"
      ]
    },
    {
      "cell_type": "markdown",
      "source": [
        "Определить, является ли год, который ввел пользователь, високосным или не високосным."
      ],
      "metadata": {
        "id": "QGbY7WhSp_wB"
      }
    },
    {
      "cell_type": "code",
      "execution_count": 2,
      "metadata": {
        "colab": {
          "base_uri": "https://localhost:8080/"
        },
        "id": "YCX-MrbmpUoD",
        "outputId": "5354a0ca-f9b6-4cdc-e106-4d15a60b3251"
      },
      "outputs": [
        {
          "output_type": "stream",
          "name": "stdout",
          "text": [
            "Введите год: 900\n",
            "Год невисокосный!\n"
          ]
        }
      ],
      "source": [
        "year = int(input('Введите год: '))\n",
        "if year % 4 == 0:\n",
        "  if year % 100 == 0:\n",
        "    if year % 400 == 0:\n",
        "      print('Год високосный!')\n",
        "    else:\n",
        "      print('Год невисокосный!')\n",
        "  else:\n",
        "    print('Год високосный!')\n",
        "else:\n",
        "  print('Год невисокосный!')"
      ]
    }
  ]
}