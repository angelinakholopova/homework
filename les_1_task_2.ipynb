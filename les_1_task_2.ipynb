{
  "nbformat": 4,
  "nbformat_minor": 0,
  "metadata": {
    "colab": {
      "name": "les_1_task_2.ipynb",
      "provenance": [],
      "authorship_tag": "ABX9TyOR2TpxpzxOvMTcjKiBrlBC",
      "include_colab_link": true
    },
    "kernelspec": {
      "name": "python3",
      "display_name": "Python 3"
    },
    "language_info": {
      "name": "python"
    }
  },
  "cells": [
    {
      "cell_type": "markdown",
      "metadata": {
        "id": "view-in-github",
        "colab_type": "text"
      },
      "source": [
        "<a href=\"https://colab.research.google.com/github/angelinakholopova/homework/blob/algorithms-and-data-structures/les_1_task_2.ipynb\" target=\"_parent\"><img src=\"https://colab.research.google.com/assets/colab-badge.svg\" alt=\"Open In Colab\"/></a>"
      ]
    },
    {
      "cell_type": "markdown",
      "source": [
        "По введенным пользователем координатам двух точек вывести уравнение прямой вида y = kx + b, проходящей через эти точки."
      ],
      "metadata": {
        "id": "nwdKu5aRb0fa"
      }
    },
    {
      "cell_type": "code",
      "source": [
        "y1 = int(input('Введите координату по оси ординат для первой точки: '))\n",
        "x1 = int(input('Введите координату по оси абсцисс для первой точки: '))\n",
        "y2 = int(input('Введите координату по оси ординат для второй точки: '))\n",
        "x2 = int(input('Введите координату по оси абсцисс для второй точки: '))\n",
        "\n",
        "if x1 == x2:\n",
        "  if y1 == y2:\n",
        "    print('Неверный ввод!')\n",
        "  else:\n",
        "    print(f'Уравнение прямой: y = {x1}')\n",
        "else:\n",
        "  if y1 == y2:\n",
        "    print(f'Уравнение прямой: x = {y1}')\n",
        "  else:\n",
        "    k = (y2 - y1)/(x2 - x1)\n",
        "    b = y1 - k * x1\n",
        "    print(f'Уравнение прямой: y = {k}x + ({b})')"
      ],
      "metadata": {
        "colab": {
          "base_uri": "https://localhost:8080/"
        },
        "id": "BXj4FTjRcmOY",
        "outputId": "4f0ff48f-1a78-443c-de4e-e3aa430792c0"
      },
      "execution_count": null,
      "outputs": [
        {
          "output_type": "stream",
          "name": "stdout",
          "text": [
            "Введите координату по оси ординат для первой точки: 7\n",
            "Введите координату по оси абсцисс для первой точки: 2\n",
            "Введите координату по оси ординат для второй точки: 5\n",
            "Введите координату по оси абсцисс для второй точки: 6\n",
            "Уравнение прямой: y = -0.5x + (8.0)\n"
          ]
        }
      ]
    }
  ]
}