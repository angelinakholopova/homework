{
  "nbformat": 4,
  "nbformat_minor": 0,
  "metadata": {
    "colab": {
      "name": "les_1_6.ipynb",
      "provenance": [],
      "authorship_tag": "ABX9TyOVhq9nS10IzFuLP+GpYd6Q",
      "include_colab_link": true
    },
    "kernelspec": {
      "name": "python3",
      "display_name": "Python 3"
    },
    "language_info": {
      "name": "python"
    }
  },
  "cells": [
    {
      "cell_type": "markdown",
      "metadata": {
        "id": "view-in-github",
        "colab_type": "text"
      },
      "source": [
        "<a href=\"https://colab.research.google.com/github/angelinakholopova/homework/blob/algorithms-and-data-structures/les_1_6.ipynb\" target=\"_parent\"><img src=\"https://colab.research.google.com/assets/colab-badge.svg\" alt=\"Open In Colab\"/></a>"
      ]
    },
    {
      "cell_type": "markdown",
      "source": [
        "По длинам трех отрезков, введенных пользователем, определить возможность существования треугольника, составленного из этих отрезков. Если такой треугольник существует, то определить, является ли он разносторонним, равнобедренным или равносторонним."
      ],
      "metadata": {
        "id": "Mi0OqgBfpyaK"
      }
    },
    {
      "cell_type": "code",
      "execution_count": 4,
      "metadata": {
        "colab": {
          "base_uri": "https://localhost:8080/"
        },
        "id": "TYEpVUXhjOZZ",
        "outputId": "3ec2277c-2dae-4345-e600-4be00a9be8ff"
      },
      "outputs": [
        {
          "output_type": "stream",
          "name": "stdout",
          "text": [
            "Введите первую сторону треугольника: 1\n",
            "Введите вторую сторону треугольника: 2\n",
            "Введите третью сторону треугольника: 3\n",
            "Треугольник невозможен!\n"
          ]
        }
      ],
      "source": [
        "a = int(input('Введите первую сторону треугольника: '))\n",
        "b = int(input('Введите вторую сторону треугольника: '))\n",
        "c = int(input('Введите третью сторону треугольника: '))\n",
        "if a + b > c:\n",
        "  if b + c > a:\n",
        "    if a + c > b:\n",
        "      if a == b and b == c:\n",
        "        print('Треугольник равносторонний')\n",
        "      else:\n",
        "        if a != b and a != c and b != c:\n",
        "          print('Треугольник разносторонний')\n",
        "        else:\n",
        "          print('Треугольник равнобедренный')\n",
        "    else:\n",
        "      print('Треугольник невозможен!')\n",
        "  else:\n",
        "    print('Треугольник невозможен!')\n",
        "else:\n",
        "  print('Треугольник невозможен!')"
      ]
    }
  ]
}