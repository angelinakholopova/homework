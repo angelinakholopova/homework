{
  "nbformat": 4,
  "nbformat_minor": 0,
  "metadata": {
    "colab": {
      "name": "les_2.ipynb",
      "provenance": [],
      "authorship_tag": "ABX9TyPtDT1WURfAw2rxrhNaG/Yv",
      "include_colab_link": true
    },
    "kernelspec": {
      "name": "python3",
      "display_name": "Python 3"
    },
    "language_info": {
      "name": "python"
    }
  },
  "cells": [
    {
      "cell_type": "markdown",
      "metadata": {
        "id": "view-in-github",
        "colab_type": "text"
      },
      "source": [
        "<a href=\"https://colab.research.google.com/github/angelinakholopova/homework/blob/lesson_2/les_2.ipynb\" target=\"_parent\"><img src=\"https://colab.research.google.com/assets/colab-badge.svg\" alt=\"Open In Colab\"/></a>"
      ]
    },
    {
      "cell_type": "markdown",
      "source": [
        "1. Написать программу, которая будет складывать, вычитать, умножать или делить два числа. Числа и знак операции вводятся пользователем. После выполнения вычисления программа не завершается, а запрашивает новые данные для вычислений. Завершение программы должно выполняться при вводе символа '0' в качестве знака операции. Если пользователь вводит неверный знак (не '0', '+', '-', '', '/'), программа должна сообщать об ошибке и снова запрашивать знак операции. Также она должна сообщать пользователю о невозможности деления на ноль, если он ввел его в качестве делителя."
      ],
      "metadata": {
        "id": "U7f3WHVUmjXn"
      }
    },
    {
      "cell_type": "code",
      "source": [
        "while True:\n",
        "  a = float(input('Введите первое число: '))\n",
        "  b = float(input('Введите второе число: '))\n",
        "  operation = input('Введите знак операции: ')\n",
        "  if operation == '+':\n",
        "    print(f'Сумма {a} и {b} равна {a + b}')\n",
        "  elif operation == '-':\n",
        "    print(f'Разность {a} и {b} равна {a - b}')\n",
        "  elif operation == '*':\n",
        "    print(f'Произведение {a} и {b} равно {a * b}')\n",
        "  elif operation == '/':\n",
        "    if b == 0:\n",
        "      print('Делитель не может быть равен нулю!')\n",
        "    else:\n",
        "      print(f'Частное {a} и {b} равно {a / b}')\n",
        "  elif operation == '0':\n",
        "    break\n",
        "  else:\n",
        "    print('Неверный знак операции!')\n",
        "\n",
        "\n"
      ],
      "metadata": {
        "colab": {
          "base_uri": "https://localhost:8080/"
        },
        "id": "7fzhy8samnK2",
        "outputId": "c56bd0a4-53d8-499f-d5f8-5a6517bf36f0"
      },
      "execution_count": 2,
      "outputs": [
        {
          "name": "stdout",
          "output_type": "stream",
          "text": [
            "Введите первое число: 3\n",
            "Введите второе число: 4\n",
            "Введите знак операции: /\n",
            "Частное 3.0 и 4.0 равно 0.75\n",
            "Введите первое число: 5\n",
            "Введите второе число: 6\n",
            "Введите знак операции: +\n",
            "Сумма 5.0 и 6.0 равна 11.0\n",
            "Введите первое число: 2\n",
            "Введите второе число: 3\n",
            "Введите знак операции: 0\n"
          ]
        }
      ]
    },
    {
      "cell_type": "markdown",
      "source": [
        "2. Посчитать четные и нечетные цифры введенного натурального числа. Например, если введено число 34560, в нем 3 четные цифры (4, 6 и 0) и 2 нечетные (3 и 5)."
      ],
      "metadata": {
        "id": "V8kL4J8lvgPI"
      }
    },
    {
      "cell_type": "code",
      "source": [
        "def oddeven(num):\n",
        "  even = 0\n",
        "  odd = 0\n",
        "  while num != 0:\n",
        "    if num % 2 == 0:\n",
        "      even += 1\n",
        "      num //= 10\n",
        "    else:\n",
        "      odd += 1\n",
        "      num //= 10\n",
        "  return even, odd\n",
        "\n",
        "n = int(input('Введите натуральное число: '))\n",
        "print(oddeven(n))\n"
      ],
      "metadata": {
        "colab": {
          "base_uri": "https://localhost:8080/"
        },
        "id": "7loEkEqkvwBL",
        "outputId": "d146e9fd-e937-4049-d70e-2aa7e31c4195"
      },
      "execution_count": 5,
      "outputs": [
        {
          "output_type": "stream",
          "name": "stdout",
          "text": [
            "Введите натуральное число: 3333\n",
            "(0, 4)\n"
          ]
        }
      ]
    },
    {
      "cell_type": "markdown",
      "source": [
        "3. Сформировать из введенного числа обратное по порядку входящих в него цифр и вывести на экран. Например, если введено число 3486, надо вывести 6843."
      ],
      "metadata": {
        "id": "OGNgoQoGxeXW"
      }
    },
    {
      "cell_type": "code",
      "source": [
        "def reverse(n):\n",
        "  n2 = ''\n",
        "  while n > 0:\n",
        "    a = n % 10\n",
        "    n //= 10\n",
        "    n2 += str(a)\n",
        "  return n2\n",
        "\n",
        "num = int(input('Введите натуральное число:'))\n",
        "print(reverse(num))"
      ],
      "metadata": {
        "colab": {
          "base_uri": "https://localhost:8080/"
        },
        "id": "-K97VbPJxrpG",
        "outputId": "5fd82420-8661-438b-874c-d794a4c16f9b"
      },
      "execution_count": 7,
      "outputs": [
        {
          "output_type": "stream",
          "name": "stdout",
          "text": [
            "Введите натуральное число:12345\n",
            "54321\n"
          ]
        }
      ]
    },
    {
      "cell_type": "markdown",
      "source": [
        "4. Найти сумму n элементов следующего ряда чисел: 1, -0.5, 0.25, -0.125,… Количество элементов (n) вводится с клавиатуры."
      ],
      "metadata": {
        "id": "TXr96yCU1JwH"
      }
    },
    {
      "cell_type": "code",
      "source": [
        "def summa(n):\n",
        "  i = 1\n",
        "  sum = 0\n",
        "  while n > 0:\n",
        "    sum += i\n",
        "    i *= (-0.5)\n",
        "    n -= 1\n",
        "  return sum\n",
        "\n",
        "num =int(input('Введите натуральное число: '))\n",
        "print(summa(num))"
      ],
      "metadata": {
        "colab": {
          "base_uri": "https://localhost:8080/"
        },
        "id": "dVd5_lc_1MdG",
        "outputId": "ad69e1d5-ffbe-49e3-fa57-7cb84a3f1ab8"
      },
      "execution_count": 8,
      "outputs": [
        {
          "output_type": "stream",
          "name": "stdout",
          "text": [
            "Введите натуральное число: 10\n",
            "0.666015625\n"
          ]
        }
      ]
    },
    {
      "cell_type": "markdown",
      "source": [
        "6. В программе генерируется случайное целое число от 0 до 100. Пользователь должен его отгадать не более чем за 10 попыток. После каждой неудачной попытки должно сообщаться, больше или меньше введенное пользователем число, чем то, что загадано. Если за 10 попыток число не отгадано, вывести ответ."
      ],
      "metadata": {
        "id": "6MG-v0zc2Mng"
      }
    },
    {
      "cell_type": "code",
      "source": [
        "import random\n",
        "a = random.randint(0, 100)\n",
        "for i in range(10):\n",
        "  num = int(input('Введите натуральное число:'))\n",
        "  if num > a:\n",
        "    print('Введенное число больше загаданного!')\n",
        "  elif num < a:\n",
        "    print('Введенное число меньше загаданного!')\n",
        "  else:\n",
        "    print('Ура! Вы угадали!')\n",
        "    break\n",
        "\n",
        "print(f'Верный ответ: {a}')"
      ],
      "metadata": {
        "colab": {
          "base_uri": "https://localhost:8080/"
        },
        "id": "Caon1OGh2S8J",
        "outputId": "04d80951-dd29-455c-aca3-7a5fdf82e219"
      },
      "execution_count": 9,
      "outputs": [
        {
          "output_type": "stream",
          "name": "stdout",
          "text": [
            "Введите натуральное число:50\n",
            "Введенное число меньше загаданного!\n",
            "Введите натуральное число:70\n",
            "Введенное число меньше загаданного!\n",
            "Введите натуральное число:90\n",
            "Введенное число больше загаданного!\n",
            "Введите натуральное число:80\n",
            "Введенное число меньше загаданного!\n",
            "Введите натуральное число:85\n",
            "Введенное число меньше загаданного!\n",
            "Введите натуральное число:88\n",
            "Введенное число больше загаданного!\n",
            "Введите натуральное число:87\n",
            "Ура! Вы угадали!\n",
            "Верный ответ: 87\n"
          ]
        }
      ]
    },
    {
      "cell_type": "markdown",
      "source": [
        "7. Написать программу, доказывающую или проверяющую, что для множества натуральных чисел выполняется равенство: 1+2+...+n = n(n+1)/2, где n — любое натуральное число."
      ],
      "metadata": {
        "id": "4J4c5zQA5zpj"
      }
    },
    {
      "cell_type": "code",
      "source": [
        "n = int(input('Введите натуральное число: '))\n",
        "sum1 = 0\n",
        "for i in range(n+1):\n",
        "  sum1 += i\n",
        "\n",
        "sum2 = n * (n+1) / 2\n",
        "print(f'Первая часть тождества = {sum1}\\nВторая часть тождества = {sum2}')\n"
      ],
      "metadata": {
        "colab": {
          "base_uri": "https://localhost:8080/"
        },
        "id": "unkcgENZ52uV",
        "outputId": "0373c115-30fe-4b42-8768-c102574b995e"
      },
      "execution_count": 11,
      "outputs": [
        {
          "output_type": "stream",
          "name": "stdout",
          "text": [
            "Введите натуральное число: 60\n",
            "Первая часть тождества = 1830\n",
            "Вторая часть тождества = 1830.0\n"
          ]
        }
      ]
    }
  ]
}