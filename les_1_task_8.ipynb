{
  "nbformat": 4,
  "nbformat_minor": 0,
  "metadata": {
    "colab": {
      "name": "les_1_task_8.ipynb",
      "provenance": [],
      "authorship_tag": "ABX9TyN3gyElmj4H9VOTxkEisUhe",
      "include_colab_link": true
    },
    "kernelspec": {
      "name": "python3",
      "display_name": "Python 3"
    },
    "language_info": {
      "name": "python"
    }
  },
  "cells": [
    {
      "cell_type": "markdown",
      "metadata": {
        "id": "view-in-github",
        "colab_type": "text"
      },
      "source": [
        "<a href=\"https://colab.research.google.com/github/angelinakholopova/homework/blob/algorithms-and-data-structures/les_1_task_8.ipynb\" target=\"_parent\"><img src=\"https://colab.research.google.com/assets/colab-badge.svg\" alt=\"Open In Colab\"/></a>"
      ]
    },
    {
      "cell_type": "markdown",
      "source": [
        "Вводятся три разных числа. Найти, какое из них является средним (больше одного, но меньше другого)."
      ],
      "metadata": {
        "id": "KI5wptjxrsEf"
      }
    },
    {
      "cell_type": "code",
      "execution_count": null,
      "metadata": {
        "id": "-9-jbNb-rO6I"
      },
      "outputs": [],
      "source": [
        "a = int(input('Введите первое число: '))\n",
        "b = int(input('Введите второе число: '))\n",
        "c = int(input('Введите третье число: '))\n",
        "if a > b:\n",
        "  if b > c:\n",
        "    print(f'Число {b} является средним')\n",
        "  else:\n",
        "    if c > a:\n",
        "      print(f'Число {a} является средним')\n",
        "    else:\n",
        "      print(f'Число {c} является средним')\n",
        "else:\n",
        "  if b > c:\n",
        "    if a > c:\n",
        "      print(f'Число {c} является средним')\n",
        "    else:\n",
        "      print(f'Число {a} является средним')\n",
        "  else:\n",
        "    print(f'Число {b} является средним')"
      ]
    }
  ]
}