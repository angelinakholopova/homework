{
 "cells": [
  {
   "cell_type": "markdown",
   "id": "eacc9002",
   "metadata": {},
   "source": [
    "## Задание 2\n",
    "\n",
    "На складе лежат разные фрукты в разном количестве.\n",
    "Нужно написать функцию, которая на вход принимает любое количество названий фруктов и их количество, а возвращает общее количество фруктов на складе"
   ]
  },
  {
   "cell_type": "code",
   "execution_count": 1,
   "id": "1b734e1f",
   "metadata": {},
   "outputs": [
    {
     "data": {
      "text/plain": [
       "10"
      ]
     },
     "execution_count": 1,
     "metadata": {},
     "output_type": "execute_result"
    }
   ],
   "source": [
    "def total_fruits(**kwargs) -> int:\n",
    "    total = 0\n",
    "    for i in kwargs.values():\n",
    "        total += i\n",
    "    return total\n",
    "\n",
    "total_fruits(passion_fruit = 4, apple = 5, banana = 1)"
   ]
  },
  {
   "cell_type": "markdown",
   "id": "c9d9b97e",
   "metadata": {},
   "source": [
    "## Задание 3\n",
    "\n",
    "\n",
    "Дан список с затратами на рекламу. Но в данных есть ошибки, некоторые затраты имеют отрицательную величину. Удалите такие значения из списка и посчитайте суммарные затраты\n",
    "```\n",
    "[100, 125, -90, 345, 655, -1, 0, 200]\n",
    "```\n",
    "Используйте list comprehensions"
   ]
  },
  {
   "cell_type": "code",
   "execution_count": 5,
   "id": "690a3d38",
   "metadata": {},
   "outputs": [
    {
     "data": {
      "text/plain": [
       "1425"
      ]
     },
     "execution_count": 5,
     "metadata": {},
     "output_type": "execute_result"
    }
   ],
   "source": [
    "def prices(list_prices: list) -> list:\n",
    "    correct_prices = [i for i in list_prices if i >= 0]\n",
    "    sum_prices = sum(correct_prices)\n",
    "    return sum_prices\n",
    "prices([100, 125, -90, 345, 655, -1, 0, 200])"
   ]
  },
  {
   "cell_type": "markdown",
   "id": "230de3d0",
   "metadata": {},
   "source": [
    "## Задание 4\n",
    "\n",
    "Даны два списка. Дата покупки\n",
    "```\n",
    "['2021-09-14', '2021-12-15', '2021-09-08', '2021-12-05', '2021-10-09', '2021-09-30', '2021-12-22', '2021-11-29', '2021-12-24', '2021-11-26', '2021-10-27', '2021-12-18', '2021-11-09', '2021-11-23', '2021-09-27', '2021-10-02', '2021-12-27', '2021-09-20', '2021-12-13', '2021-11-01', '2021-11-09', '2021-12-06', '2021-12-08', '2021-10-09', '2021-10-31', '2021-09-30', '2021-11-09', '2021-12-13', '2021-10-26', '2021-12-09']\n",
    "```\n",
    "Суммы покупок по датам\n",
    "```\n",
    "[1270, 8413, 9028, 3703, 5739, 4095, 295, 4944, 5723, 3701, 4471, 651, 7037, 4274, 6275, 4988, 6930, 2971, 6592, 2004, 2822, 519, 3406, 2732, 5015, 2008, 316, 6333, 5700, 2887]\n",
    "```\n"
   ]
  },
  {
   "cell_type": "markdown",
   "id": "22db8220",
   "metadata": {},
   "source": [
    "### 4.1 Найдите, какая выручка у компании в ноябре\n",
    "\n",
    "\n",
    "Используйте list comprehensions\n",
    "\n"
   ]
  },
  {
   "cell_type": "code",
   "execution_count": 11,
   "id": "4fd83e3f",
   "metadata": {},
   "outputs": [],
   "source": [
    "dates = ['2021-09-14', '2021-12-15', '2021-09-08','2021-12-05', '2021-10-09', '2021-09-30', '2021-12-22', \n",
    "         '2021-11-29','2021-12-24', '2021-11-26', '2021-10-27', '2021-12-18', '2021-11-09', '2021-11-23', \n",
    "         '2021-09-27', '2021-10-02', '2021-12-27', '2021-09-20', '2021-12-13', '2021-11-01', '2021-11-09', \n",
    "         '2021-12-06', '2021-12-08','2021-10-09', '2021-10-31', '2021-09-30', '2021-11-09', '2021-12-13', \n",
    "         '2021-10-26', '2021-12-09']\n",
    "\n",
    "earn = [1270, 8413, 9028, 3703, 5739, 4095, 295, 4944, 5723, 3701, 4471, 651, 7037, 4274, 6275, 4988, \n",
    "           6930, 2971, 6592, 2004, 2822, 519, 3406, 2732, 5015, 2008, 316, 6333, 5700, 2887]"
   ]
  },
  {
   "cell_type": "code",
   "execution_count": 35,
   "id": "54520a95",
   "metadata": {},
   "outputs": [
    {
     "data": {
      "text/plain": [
       "25098"
      ]
     },
     "execution_count": 35,
     "metadata": {},
     "output_type": "execute_result"
    }
   ],
   "source": [
    "earn_november = sum([earn[i] for i in range(len(dates)) if dates[i] >= '2021-11-01' and dates[i] <= '2021-11-30'])\n",
    "earn_november"
   ]
  },
  {
   "cell_type": "markdown",
   "id": "54592481",
   "metadata": {},
   "source": [
    "### 4.2 Найдите выручку компании в зависимости от месяца\n",
    "\n",
    "Для этого напишите функцию, которая на вход принимает список с датами и список с выручкой, а на выходе словарь, где ключи - это месяцы, а значения - это выручка.\n",
    "Используйте аннотирование типов."
   ]
  },
  {
   "cell_type": "code",
   "execution_count": 37,
   "id": "19c10775",
   "metadata": {},
   "outputs": [
    {
     "data": {
      "text/plain": [
       "{'january': 0,\n",
       " 'fabuary': 0,\n",
       " 'march': 0,\n",
       " 'april': 0,\n",
       " 'may': 0,\n",
       " 'june': 0,\n",
       " 'july': 0,\n",
       " 'august': 0,\n",
       " 'september': 25647,\n",
       " 'october': 28645,\n",
       " 'november': 25098,\n",
       " 'december': 45452}"
      ]
     },
     "execution_count": 37,
     "metadata": {},
     "output_type": "execute_result"
    }
   ],
   "source": [
    "def earn_monthly(dates: list, earn: list) -> dict:\n",
    "    months = ['january', 'fabuary', 'march', 'april', 'may', 'june', 'july', 'august', 'september', 'october', \n",
    "              'november', 'december']\n",
    "    earns = [sum([earn[i] for i in range(len(dates)) if dates[i] >= '2021-01-01' and dates[i] <= '2021-01-31']),\n",
    "             sum([earn[i] for i in range(len(dates)) if dates[i] >= '2021-02-01' and dates[i] <= '2021-02-29']),\n",
    "             sum([earn[i] for i in range(len(dates)) if dates[i] >= '2021-03-01' and dates[i] <= '2021-03-31']),\n",
    "             sum([earn[i] for i in range(len(dates)) if dates[i] >= '2021-04-01' and dates[i] <= '2021-04-30']),\n",
    "             sum([earn[i] for i in range(len(dates)) if dates[i] >= '2021-05-01' and dates[i] <= '2021-05-31']),\n",
    "             sum([earn[i] for i in range(len(dates)) if dates[i] >= '2021-06-01' and dates[i] <= '2021-06-30']),\n",
    "             sum([earn[i] for i in range(len(dates)) if dates[i] >= '2021-07-01' and dates[i] <= '2021-07-31']),\n",
    "             sum([earn[i] for i in range(len(dates)) if dates[i] >= '2021-08-01' and dates[i] <= '2021-08-31']),\n",
    "             sum([earn[i] for i in range(len(dates)) if dates[i] >= '2021-09-01' and dates[i] <= '2021-09-30']),\n",
    "             sum([earn[i] for i in range(len(dates)) if dates[i] >= '2021-10-01' and dates[i] <= '2021-10-31']),\n",
    "             sum([earn[i] for i in range(len(dates)) if dates[i] >= '2021-11-01' and dates[i] <= '2021-11-30']),\n",
    "             sum([earn[i] for i in range(len(dates)) if dates[i] >= '2021-12-01' and dates[i] <= '2021-12-31'])]\n",
    "    e_m = {months[i]: earns[i] for i in range(len(months))}\n",
    "    return e_m\n",
    "\n",
    "earn_monthly(dates, earn)"
   ]
  }
 ],
 "metadata": {
  "kernelspec": {
   "display_name": "Python 3 (ipykernel)",
   "language": "python",
   "name": "python3"
  },
  "language_info": {
   "codemirror_mode": {
    "name": "ipython",
    "version": 3
   },
   "file_extension": ".py",
   "mimetype": "text/x-python",
   "name": "python",
   "nbconvert_exporter": "python",
   "pygments_lexer": "ipython3",
   "version": "3.9.13"
  }
 },
 "nbformat": 4,
 "nbformat_minor": 5
}
