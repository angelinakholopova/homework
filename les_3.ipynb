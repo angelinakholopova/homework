{
  "nbformat": 4,
  "nbformat_minor": 0,
  "metadata": {
    "colab": {
      "name": "les_3.ipynb",
      "provenance": [],
      "authorship_tag": "ABX9TyPRhU3zIDdlJlb+Hg6u3HYh",
      "include_colab_link": true
    },
    "kernelspec": {
      "name": "python3",
      "display_name": "Python 3"
    },
    "language_info": {
      "name": "python"
    }
  },
  "cells": [
    {
      "cell_type": "markdown",
      "metadata": {
        "id": "view-in-github",
        "colab_type": "text"
      },
      "source": [
        "<a href=\"https://colab.research.google.com/github/angelinakholopova/homework/blob/lesson_3/les_3.ipynb\" target=\"_parent\"><img src=\"https://colab.research.google.com/assets/colab-badge.svg\" alt=\"Open In Colab\"/></a>"
      ]
    },
    {
      "cell_type": "markdown",
      "source": [
        "1. В диапазоне натуральных чисел от 2 до 99 определить, сколько из них кратны каждому из чисел в диапазоне от 2 до 9. Примечание: 8 разных ответов.\n",
        "\n"
      ],
      "metadata": {
        "id": "wSVQ7lzgk93W"
      }
    },
    {
      "cell_type": "code",
      "source": [
        "result = {}\n",
        "for n in range(2, 10):\n",
        "    result[n] = []\n",
        "    for f in range(2, 100):\n",
        "        if f % n == 0:\n",
        "            result[n].append(f)\n",
        "    print(\n",
        "        f'Для числа {n} кратны - {len(result[n])}. Кратные числа: {result[n]}.'\n",
        "        )"
      ],
      "metadata": {
        "colab": {
          "base_uri": "https://localhost:8080/"
        },
        "id": "9gIXkXPulD3n",
        "outputId": "128237ac-c19e-4e71-f2d1-1f6867fafcce"
      },
      "execution_count": 1,
      "outputs": [
        {
          "output_type": "stream",
          "name": "stdout",
          "text": [
            "Для числа 2 кратны - 49. Кратные числа: [2, 4, 6, 8, 10, 12, 14, 16, 18, 20, 22, 24, 26, 28, 30, 32, 34, 36, 38, 40, 42, 44, 46, 48, 50, 52, 54, 56, 58, 60, 62, 64, 66, 68, 70, 72, 74, 76, 78, 80, 82, 84, 86, 88, 90, 92, 94, 96, 98].\n",
            "Для числа 3 кратны - 33. Кратные числа: [3, 6, 9, 12, 15, 18, 21, 24, 27, 30, 33, 36, 39, 42, 45, 48, 51, 54, 57, 60, 63, 66, 69, 72, 75, 78, 81, 84, 87, 90, 93, 96, 99].\n",
            "Для числа 4 кратны - 24. Кратные числа: [4, 8, 12, 16, 20, 24, 28, 32, 36, 40, 44, 48, 52, 56, 60, 64, 68, 72, 76, 80, 84, 88, 92, 96].\n",
            "Для числа 5 кратны - 19. Кратные числа: [5, 10, 15, 20, 25, 30, 35, 40, 45, 50, 55, 60, 65, 70, 75, 80, 85, 90, 95].\n",
            "Для числа 6 кратны - 16. Кратные числа: [6, 12, 18, 24, 30, 36, 42, 48, 54, 60, 66, 72, 78, 84, 90, 96].\n",
            "Для числа 7 кратны - 14. Кратные числа: [7, 14, 21, 28, 35, 42, 49, 56, 63, 70, 77, 84, 91, 98].\n",
            "Для числа 8 кратны - 12. Кратные числа: [8, 16, 24, 32, 40, 48, 56, 64, 72, 80, 88, 96].\n",
            "Для числа 9 кратны - 11. Кратные числа: [9, 18, 27, 36, 45, 54, 63, 72, 81, 90, 99].\n"
          ]
        }
      ]
    },
    {
      "cell_type": "markdown",
      "source": [
        "2. Во втором массиве сохранить индексы четных элементов первого массива. Например, если дан массив со значениями 8, 3, 15, 6, 4, 2, второй массив надо заполнить значениями 0, 3, 4, 5 (помните, что индексация начинается с нуля), т. к. именно в этих позициях первого массива стоят четные числа.\n"
      ],
      "metadata": {
        "id": "o4FwZ9OmlZJJ"
      }
    },
    {
      "cell_type": "code",
      "source": [
        "import random\n",
        "\n",
        "r = [random.randint(0, 99) for _ in range(10)]\n",
        "print(f'Первый массив {r}')\n",
        "even = []\n",
        "\n",
        "for n in r:\n",
        "    if n % 2 == 0:\n",
        "        even.append(r.index(n))\n",
        "\n",
        "print(f'Индексы чётных элементов первого массива: {even}')"
      ],
      "metadata": {
        "colab": {
          "base_uri": "https://localhost:8080/"
        },
        "id": "RAmtQaLQlcJP",
        "outputId": "d92c6848-81f3-4f3a-e173-e9ee806d8416"
      },
      "execution_count": 5,
      "outputs": [
        {
          "output_type": "stream",
          "name": "stdout",
          "text": [
            "Первый массив [68, 77, 45, 77, 88, 25, 89, 92, 37, 89]\n",
            "Индексы чётных элементов первого массива: [0, 4, 7]\n"
          ]
        }
      ]
    },
    {
      "cell_type": "markdown",
      "source": [
        "3. В массиве случайных целых чисел поменять местами минимальный и максимальный элементы."
      ],
      "metadata": {
        "id": "kTOuuMdOlsDU"
      }
    },
    {
      "cell_type": "code",
      "source": [
        "import random\n",
        "\n",
        "r = [random.randint(0, 99) for _ in range(10)]\n",
        "print(f'Массив до изменения: {r}')\n",
        "\n",
        "max = r[0]\n",
        "min = r[0]\n",
        "\n",
        "for i in r:\n",
        "    if i > max:\n",
        "        max = i\n",
        "    elif i < min:\n",
        "        min = i\n",
        "min_index = r.index(min)\n",
        "max_index = r.index(max)\n",
        "r[min_index], r[max_index] = r[max_index], r[min_index]\n",
        "print(f'Массив осле изменения элементов {min_index} и {max_index}: {r}')"
      ],
      "metadata": {
        "colab": {
          "base_uri": "https://localhost:8080/"
        },
        "id": "9_eE--xulxNk",
        "outputId": "d1ef554d-d96e-4605-da99-cc2c09dda159"
      },
      "execution_count": 4,
      "outputs": [
        {
          "output_type": "stream",
          "name": "stdout",
          "text": [
            "Массив до изменения: [3, 87, 29, 47, 32, 81, 52, 91, 59, 71]\n",
            "Массив осле изменения элементов 0 и 7: [91, 87, 29, 47, 32, 81, 52, 3, 59, 71]\n"
          ]
        }
      ]
    },
    {
      "cell_type": "markdown",
      "source": [
        "4. Определить, какое число в массиве встречается чаще всего."
      ],
      "metadata": {
        "id": "ObXgVLmrl9hJ"
      }
    },
    {
      "cell_type": "code",
      "source": [
        "import random\n",
        "\n",
        "r = [random.randint(0, 99) for _ in range(100)]\n",
        "print(f'Массив: {r}')\n",
        "\n",
        "max = 0\n",
        "for i in r:\n",
        "    if r.count(max) < r.count(i):\n",
        "        max = r.index(i)\n",
        "\n",
        "print(f'Число {r[max]}, встречается {r.count(max)} раза')"
      ],
      "metadata": {
        "colab": {
          "base_uri": "https://localhost:8080/"
        },
        "id": "RqVKy-jvmEqO",
        "outputId": "964cbfbb-ab87-4434-c5db-d2412ac5a0c5"
      },
      "execution_count": 3,
      "outputs": [
        {
          "output_type": "stream",
          "name": "stdout",
          "text": [
            "Массив: [39, 63, 80, 69, 74, 99, 77, 49, 62, 34, 98, 11, 44, 17, 60, 8, 92, 97, 19, 96, 40, 57, 22, 8, 94, 62, 59, 1, 54, 98, 36, 94, 50, 2, 86, 76, 90, 62, 97, 15, 95, 24, 53, 84, 89, 81, 44, 79, 16, 6, 57, 53, 65, 84, 40, 24, 1, 64, 76, 38, 95, 26, 54, 49, 35, 52, 56, 28, 48, 80, 78, 62, 11, 93, 21, 90, 53, 74, 70, 13, 55, 7, 83, 53, 30, 40, 7, 21, 45, 73, 39, 1, 3, 19, 62, 92, 2, 21, 26, 8]\n",
            "Число 62, встречается 3 раза\n"
          ]
        }
      ]
    },
    {
      "cell_type": "markdown",
      "source": [
        "5. В массиве найти максимальный отрицательный элемент. Вывести на экран его значение и позицию в массиве."
      ],
      "metadata": {
        "id": "v2FEDaZ0micn"
      }
    },
    {
      "cell_type": "code",
      "source": [
        "import random\n",
        "\n",
        "r = [random.randint(-99, 99) for _ in range(100)]\n",
        "print(f'Массив: {r}')\n",
        "\n",
        "min_index = 0\n",
        "\n",
        "for i in r:\n",
        "    if r[min_index] > i:\n",
        "        min_index = r.index(i)\n",
        "\n",
        "if r[min_index] >= 0:\n",
        "    print(f'В массиве нет отрицательных элементов')\n",
        "else:\n",
        "    print(f'В массиве минимальный отрицательный элемент: {r[min_index]}.',\n",
        "            f'Находится в массиве на позиции {min_index}')"
      ],
      "metadata": {
        "colab": {
          "base_uri": "https://localhost:8080/"
        },
        "id": "6X3-KJHZmjic",
        "outputId": "ea37d8f0-3e9e-44da-a1af-c4c7735f0a96"
      },
      "execution_count": 6,
      "outputs": [
        {
          "output_type": "stream",
          "name": "stdout",
          "text": [
            "Массив: [-70, 37, 14, 67, -59, 81, 56, 27, -6, -36, 18, 26, 57, -85, -17, 22, 80, -48, -66, 0, 96, 97, 18, -42, -68, -42, -64, -46, -19, 13, -84, 71, 49, 22, 68, -30, -65, -92, -29, 59, 53, 43, -52, 78, 40, -3, 10, -51, -40, -80, -97, 86, -34, -43, 14, -66, -62, -70, 63, -45, 87, -88, -79, -9, 29, -33, 99, -35, -44, -97, 87, 13, -13, -27, 16, 33, 30, -22, -65, -53, 12, -52, 30, -18, -32, 96, -38, 15, 63, -78, -59, 94, -42, -45, 9, 22, -53, 35, 10, 43]\n",
            "В массиве минимальный отрицательный элемент: -97. Находится в массиве на позиции 50\n"
          ]
        }
      ]
    }
  ]
}